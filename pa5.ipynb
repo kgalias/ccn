{
 "cells": [
  {
   "cell_type": "markdown",
   "metadata": {},
   "source": [
    "# Practical assignment 5\n",
    "#### Group 8: Christopher Galias (s1009417) and Robin de Heer (s4349792)"
   ]
  },
  {
   "cell_type": "markdown",
   "metadata": {},
   "source": [
    "### 1. Run the code and plot the cumulative reward over time."
   ]
  },
  {
   "cell_type": "markdown",
   "metadata": {},
   "source": [
    "Import of necessary libraries."
   ]
  },
  {
   "cell_type": "code",
   "execution_count": 1,
   "metadata": {
    "collapsed": true
   },
   "outputs": [],
   "source": [
    "%matplotlib inline\n",
    "import matplotlib.pyplot as plt\n",
    "\n",
    "import numpy as np"
   ]
  },
  {
   "cell_type": "markdown",
   "metadata": {},
   "source": [
    "Environment definition."
   ]
  },
  {
   "cell_type": "code",
   "execution_count": 2,
   "metadata": {
    "collapsed": true
   },
   "outputs": [],
   "source": [
    "class EvidenceEnv(object):\n",
    "    \"\"\"\n",
    "    Very simple task which only requires evaluating present evidence and does not require evidence integration.\n",
    "    The actor gets a reward when it correctly decides on the ground truth. Ground truth 0/1 determines probabilistically\n",
    "    the number of 0s or 1s as observations\n",
    "    \"\"\"\n",
    "\n",
    "    def __init__(self, n=1, p=0.8):\n",
    "        \"\"\"\n",
    "\n",
    "        Args:\n",
    "            n: number of inputs (pieces of evidence)\n",
    "            p: probability of emitting the right sensation at the input\n",
    "        \"\"\"\n",
    "%matplotlib inline\n",
    "import matplotlib.pyplot as plt\n",
    "\n",
    "import numpy as np\n",
    "        self.n_input = n\n",
    "        self.p = p\n",
    "        self.n_action = 2\n",
    "\n",
    "        self._state = None\n",
    "\n",
    "    def reset(self):\n",
    "        \"\"\"\n",
    "        Resets state and generates new observations\n",
    "\n",
    "        Returns:\n",
    "            observation\n",
    "        \"\"\"\n",
    "\n",
    "        # generate state\n",
    "        self._state = np.random.choice(2)\n",
    "\n",
    "        return self.observe()\n",
    "\n",
    "    def step(self, action):\n",
    "        \"\"\"\n",
    "        Executes action, updates state and returns an observation, reward, done (episodic tasks) and optional information\n",
    "\n",
    "        :param action:\n",
    "        :return: observation, reward, done, info\n",
    "        \"\"\"\n",
    "\n",
    "        # return 1 for correct decision and -1 for incorrect decision\n",
    "        reward = (2 * (action == self._state) - 1)\n",
    "\n",
    "        # generate state\n",
    "        self._state = np.random.choice(2)\n",
    "\n",
    "        # we are always done after each decision\n",
    "        done = True\n",
    "\n",
    "        return self.observe(), reward, done, None\n",
    "\n",
    "    def observe(self):\n",
    "        \"\"\"\n",
    "        Helper function which generates an observation based on a state\n",
    "\n",
    "        :return: observation\n",
    "        \"\"\"\n",
    "\n",
    "        # generate associated observations\n",
    "        P = [self.p, 1 - self.p] if self._state == 0 else [1 - self.p, self.p]\n",
    "\n",
    "        return np.random.choice(2, self.n_input, True, P).astype('float32').reshape([1, self.n_input])[0]\n",
    "\n",
    "    def render(self):\n",
    "        \"\"\"\n",
    "        Takes care of rendering\n",
    "\n",
    "        :return:\n",
    "        \"\"\"\n",
    "\n",
    "        print(self._state)\n",
    "\n",
    "    def close(self):\n",
    "        \"\"\"\n",
    "        Closes the rendering\n",
    "\n",
    "        :return:\n",
    "        \"\"\"\n",
    "        pass\n",
    "\n",
    "    def asint(self,obs):\n",
    "        \"\"\"\n",
    "        Represent input observations as an integer number\n",
    "        :param obs:\n",
    "        :return:\n",
    "        \"\"\"\n",
    "        \n",
    "        return int(sum(2**i*b for i, b in enumerate(obs)))\n",
    "\n",
    "    def asbinary(self, i, b_len):\n",
    "        \"\"\"\n",
    "        Represent integer as binary array\n",
    "        :param i: integer\n",
    "        :param b_len: length of binary array\n",
    "        :return:\n",
    "        \"\"\"\n",
    "\n",
    "        # get binary representation from integer\n",
    "        _b = [int(x) for x in list('{0:0b}'.format(i))]\n",
    "        _b = [0 for i in range(b_len - len(_b))] + _b\n",
    "\n",
    "        return _b"
   ]
  },
  {
   "cell_type": "markdown",
   "metadata": {},
   "source": [
    "Definition of the random agent."
   ]
  },
  {
   "cell_type": "code",
   "execution_count": 3,
   "metadata": {
    "collapsed": true
   },
   "outputs": [],
   "source": [
    "class RandomAgent(object):\n",
    "    \n",
    "    def __init__(self, env):\n",
    "        \"\"\"\n",
    "        Args:\n",
    "        env: an environment\n",
    "        \"\"\"\n",
    "        \n",
    "        self.env = env\n",
    "\n",
    "    def act(self, observation):\n",
    "        \"\"\"\n",
    "        Act based on observation and train agent on cumulated \n",
    "        reward (return)\n",
    "        :param observation: new observation\n",
    "        :param reward: reward gained from previous action; \n",
    "        :None indicates no reward because of initial state\n",
    "        :return: action (Variable)\n",
    "        \"\"\"\n",
    "        \n",
    "        return np.random.choice(self.env.n_action)\n",
    "    \n",
    "    def train(self, a, old_obs, r, new_obs):\n",
    "        \"\"\"\n",
    "        :param a: action\n",
    "        :param old_obs: old observation\n",
    "        :param r: reward\n",
    "        :param new_obs: new observation\n",
    "        :return:\n",
    "        \"\"\"\n",
    "        \n",
    "        pass"
   ]
  },
  {
   "cell_type": "markdown",
   "metadata": {},
   "source": [
    "Helper training function."
   ]
  },
  {
   "cell_type": "code",
   "execution_count": 4,
   "metadata": {
    "collapsed": true
   },
   "outputs": [],
   "source": [
    "def train(env, agent, n_iter):\n",
    "    obs = env.reset()  # reset environment and agent\n",
    "    reward = None\n",
    "    done = False\n",
    "    R = []\n",
    "    for step in range(n_iter):\n",
    "        # env.render()\n",
    "        action = agent.act(obs)\n",
    "        _obs, reward, done, _ = env.step(action)\n",
    "        agent.train(action, obs, reward, _obs)\n",
    "        obs = _obs\n",
    "        R.append(reward)\n",
    "    return R"
   ]
  },
  {
   "cell_type": "markdown",
   "metadata": {},
   "source": [
    "Setup of environment and training hyperparameter."
   ]
  },
  {
   "cell_type": "code",
   "execution_count": 5,
   "metadata": {
    "collapsed": true
   },
   "outputs": [],
   "source": [
    "env = EvidenceEnv(n=2, p=0.95)\n",
    "n_iter = 1000"
   ]
  },
  {
   "cell_type": "markdown",
   "metadata": {},
   "source": [
    "Setup and \"training\" of random agent."
   ]
  },
  {
   "cell_type": "code",
   "execution_count": 6,
   "metadata": {
    "collapsed": true
   },
   "outputs": [],
   "source": [
    "random_agent = RandomAgent(env)\n",
    "random_rewards = train(env, random_agent, n_iter)"
   ]
  },
  {
   "cell_type": "markdown",
   "metadata": {},
   "source": [
    "Plot of cumulative rewards for the random agent."
   ]
  },
  {
   "cell_type": "code",
   "execution_count": 7,
   "metadata": {},
   "outputs": [
    {
     "data": {
      "image/png": "[encoded data removed]",
      "text/plain": [
       "<matplotlib.figure.Figure at 0x7fa7376b0e90>"
      ]
     },
     "metadata": {},
     "output_type": "display_data"
    }
   ],
   "source": [
    "plt.plot(np.cumsum(random_rewards))\n",
    "plt.legend([\"Random Agent\"])\n",
    "plt.ylabel(\"Cumulative reward\")\n",
    "_ = plt.xlabel(\"Number of iterations\")"
   ]
  },
  {
   "cell_type": "markdown",
   "metadata": {},
   "source": [
    "### 2. Implement the Tabular Q-learning algorithm and show that your TabularQAgent learns to accumulate reward over time. Plot the cumulative rewards for this agent. Also plot the values for Q(s, a) before and after learning. Note that the state can be represented by converting the binary observations into an integer number. You may use the function EvidenceEnv.asint(obs) for this. Your task is to implement the act and train functions."
   ]
  },
  {
   "cell_type": "markdown",
   "metadata": {},
   "source": [
    "More hyperparameters."
   ]
  },
  {
   "cell_type": "code",
   "execution_count": 8,
   "metadata": {
    "collapsed": true
   },
   "outputs": [],
   "source": [
    "alpha = 0.1\n",
    "gamma = 0.9\n",
    "epsilon = 0.1"
   ]
  },
  {
   "cell_type": "markdown",
   "metadata": {},
   "source": [
    "Definition of the tabular Q-agent."
   ]
  },
  {
   "cell_type": "code",
   "execution_count": 9,
   "metadata": {
    "collapsed": true
   },
   "outputs": [],
   "source": [
    "class TabularQAgent(object):\n",
    "    \n",
    "    def __init__(self, env, alpha, gamma, eps):\n",
    "        \"\"\"\n",
    "        Args:\n",
    "        env: an environment\n",
    "        \"\"\"\n",
    "        \n",
    "        self.env = env\n",
    "        self.Q = np.random.randn(4, 2)  # (states, actions)\n",
    "        self.alpha = alpha\n",
    "        self.gamma = gamma\n",
    "        self.eps = eps\n",
    "        \n",
    "    def act(self, obs):\n",
    "        \"\"\"\n",
    "        Act based on observation and train agent on cumulated \n",
    "        reward (return)\n",
    "        :param observation: new observation\n",
    "        :param reward: reward gained from previous action; \n",
    "        :None indicates no reward because of initial state\n",
    "        :return: action (Variable)\n",
    "        \"\"\"\n",
    "        \n",
    "        if np.random.random() < self.eps:\n",
    "            return np.random.choice(self.env.n_action)\n",
    "        else:\n",
    "            current_state = self.env.asint(obs)\n",
    "            return 0 if self.Q[current_state, 0] > self.Q[current_state, 1] else 1\n",
    "            \n",
    "    def train(self, a, old_obs, r, new_obs):\n",
    "        \"\"\"\n",
    "        :param a: action\n",
    "        :param old_obs: old observation\n",
    "        :param r: reward\n",
    "        :param new_obs: new observation\n",
    "        :return:\n",
    "        \"\"\"\n",
    "\n",
    "        old_state = self.env.asint(old_obs)\n",
    "        new_state = self.env.asint(new_obs)\n",
    "        self.Q[old_state, a] += self.alpha * (r + self.gamma * np.max(self.Q[new_state, :]) \\\n",
    "                                              - self.Q[old_state, a])"
   ]
  },
  {
   "cell_type": "markdown",
   "metadata": {},
   "source": [
    "Setup and training for the tabular Q-agent."
   ]
  },
  {
   "cell_type": "code",
   "execution_count": 10,
   "metadata": {
    "collapsed": true
   },
   "outputs": [],
   "source": [
    "tabular_agent = TabularQAgent(env, alpha, gamma, epsilon)\n",
    "start_Q_tabular = np.copy(tabular_agent.Q)\n",
    "tabular_rewards = train(env, tabular_agent, n_iter)\n",
    "end_Q_tabular = tabular_agent.Q"
   ]
  },
  {
   "cell_type": "markdown",
   "metadata": {},
   "source": [
    "Plot of cumulative rewards for the two agents."
   ]
  },
  {
   "cell_type": "code",
   "execution_count": 11,
   "metadata": {
    "scrolled": false
   },
   "outputs": [
    {
     "data": {
      "image/png": "[encoded data removed]",
      "text/plain": [
       "<matplotlib.figure.Figure at 0x7fa7376c2e10>"
      ]
     },
     "metadata": {},
     "output_type": "display_data"
    }
   ],
   "source": [
    "plt.plot(np.cumsum(random_rewards))\n",
    "plt.plot(np.cumsum(tabular_rewards))\n",
    "plt.legend([\"Random Agent\", \"Tabular Q-Agent\"])\n",
    "plt.ylabel(\"Cumulative reward\")\n",
    "_ = plt.xlabel(\"Number of iterations\")"
   ]
  },
  {
   "cell_type": "markdown",
   "metadata": {},
   "source": [
    "Plot of Q-values before and after learning."
   ]
  },
  {
   "cell_type": "code",
   "execution_count": 12,
   "metadata": {},
   "outputs": [
    {
     "data": {
      "image/png": "[encoded data removed]",
      "text/plain": [
       "<matplotlib.figure.Figure at 0x7fa73499f050>"
      ]
     },
     "metadata": {},
     "output_type": "display_data"
    }
   ],
   "source": [
    "Q_max = np.maximum(np.max(start_Q_tabular), np.max(end_Q_tabular))\n",
    "Q_min = np.minimum(np.min(start_Q_tabular), np.min(end_Q_tabular))\n",
    "\n",
    "fig, axes = plt.subplots(1, 2, figsize=(7.5, 3))\n",
    "plt.suptitle(\"Q-values for the Tabular Q-Agent\")\n",
    "\n",
    "axes[0].set_title(\"Before training\")\n",
    "axes[0].set_xlabel(\"states\")\n",
    "axes[0].set_xticklabels([\"\", (0, 0), (0, 1), (1, 0), (1, 1)])\n",
    "axes[0].set_ylabel(\"actions\")\n",
    "axes[0].imshow(start_Q_tabular.T, vmin=Q_min, vmax=Q_max)\n",
    "\n",
    "axes[1].set_title(\"After training\")\n",
    "axes[1].set_xlabel(\"states\")\n",
    "axes[1].set_xticklabels([\"\", (0, 0), (0, 1), (1, 0), (1, 1)])\n",
    "axes[1].set_yticks([])\n",
    "im = axes[1].imshow(end_Q_tabular.T, vmin=Q_min, vmax=Q_max)\n",
    "\n",
    "_ = fig.colorbar(im, ax=axes.ravel().tolist(), shrink=0.46)"
   ]
  },
  {
   "cell_type": "markdown",
   "metadata": {},
   "source": [
    "### 3. Implement a NeuralQAgent in chainer which uses an MLP that takes observations and learns to compute the Q value for all possible actions. Use backpropagation to train your network. Plot the cumulative rewards for this agent. Also plot the values for Q(s, a) before and after learning. You may use the function EvidenceEnv.asbinary(I, b_len) for this."
   ]
  },
  {
   "cell_type": "markdown",
   "metadata": {},
   "source": [
    "Import of necessary libraries."
   ]
  },
  {
   "cell_type": "code",
   "execution_count": 13,
   "metadata": {
    "collapsed": true
   },
   "outputs": [],
   "source": [
    "import chainer\n",
    "from chainer import Variable\n",
    "from chainer import Chain\n",
    "import chainer.functions as F\n",
    "import chainer.links as L"
   ]
  },
  {
   "cell_type": "markdown",
   "metadata": {},
   "source": [
    "More hyperparameters."
   ]
  },
  {
   "cell_type": "code",
   "execution_count": 14,
   "metadata": {
    "collapsed": true
   },
   "outputs": [],
   "source": [
    "alpha = 0.1\n",
    "gamma = 0.9\n",
    "epsilon = 0.1\n",
    "n_units = 10"
   ]
  },
  {
   "cell_type": "markdown",
   "metadata": {},
   "source": [
    "Definition of the neural network for computing Q-values."
   ]
  },
  {
   "cell_type": "code",
   "execution_count": 15,
   "metadata": {
    "collapsed": true
   },
   "outputs": [],
   "source": [
    "class MLP(Chain):\n",
    "    def __init__(self, n_units, n_out):\n",
    "        super(MLP, self).__init__()\n",
    "        with self.init_scope():\n",
    "            # the size of the inputs to each layer will be inferred\n",
    "            self.l1 = L.Linear(None, n_units)\n",
    "            self.l2 = L.Linear(None, n_out)\n",
    "\n",
    "    def __call__(self, x):\n",
    "        h = F.tanh(self.l1(x))\n",
    "        return self.l2(h)"
   ]
  },
  {
   "cell_type": "markdown",
   "metadata": {},
   "source": [
    "Definition of the neural Q-agent."
   ]
  },
  {
   "cell_type": "code",
   "execution_count": 16,
   "metadata": {
    "collapsed": true
   },
   "outputs": [],
   "source": [
    "class NeuralQAgent(object):\n",
    "    \n",
    "    def __init__(self, env, n_units, alpha, gamma, eps):\n",
    "        \"\"\"\n",
    "        Args:\n",
    "        env: an environment\n",
    "        \"\"\"\n",
    "        \n",
    "        self.env = env\n",
    "             \n",
    "        self.alpha = alpha\n",
    "        self.gamma = gamma\n",
    "        self.eps = eps\n",
    "\n",
    "        self.model = MLP(n_units, 2)\n",
    "    \n",
    "        self.optimizer = chainer.optimizers.SGD(lr=alpha)\n",
    "        self.optimizer.setup(self.model)\n",
    "        \n",
    "    def act(self, obs):\n",
    "        \"\"\"\n",
    "        Act based on observation and train agent on cumulated \n",
    "        reward (return)\n",
    "        :param observation: new observation\n",
    "        :param reward: reward gained from previous action; \n",
    "        :None indicates no reward because of initial state\n",
    "        :return: action (Variable)\n",
    "        \"\"\"\n",
    "        \n",
    "        if np.random.random() < self.eps:\n",
    "            return np.random.choice(self.env.n_action)\n",
    "        else:\n",
    "            current_state = np.atleast_2d(obs)\n",
    "            return 0 if self.model(current_state).data[0, 0] > \\\n",
    "                        self.model(current_state).data[0, 1] else 1\n",
    "            \n",
    "    def train(self, a, old_obs, r, new_obs):\n",
    "        \"\"\"\n",
    "        :param a: action\n",
    "        :param old_obs: old observation\n",
    "        :param r: reward\n",
    "        :param new_obs: new observation\n",
    "        :return:\n",
    "        \"\"\"\n",
    "        \n",
    "        # chainer wants an additional dummy dimension\n",
    "        old_state = np.atleast_2d(old_obs)\n",
    "        new_state = np.atleast_2d(new_obs)\n",
    "\n",
    "        pred_Q = self.model(old_state)\n",
    "        \n",
    "        target_Q = np.copy(pred_Q.data[0, :])\n",
    "        target_Q[a] = r + gamma * np.max(self.model(new_state).data[0, :])\n",
    "\n",
    "        target_Q = chainer.Variable(np.atleast_2d(target_Q))\n",
    "        \n",
    "        self.model.cleargrads()\n",
    "        loss = F.mean_squared_error(pred_Q, target_Q)\n",
    "        loss.backward()\n",
    "        self.optimizer.update()   "
   ]
  },
  {
   "cell_type": "markdown",
   "metadata": {},
   "source": [
    "Setup and training for the neural Q-agent."
   ]
  },
  {
   "cell_type": "code",
   "execution_count": 17,
   "metadata": {
    "collapsed": true
   },
   "outputs": [],
   "source": [
    "neural_agent = NeuralQAgent(env, n_units, alpha, gamma, epsilon)\n",
    "start_Q_neural = np.array(\n",
    "    [neural_agent.model(np.atleast_2d(env.asbinary(i, 2)).astype('float32')).data[0, :] for i in range(4)])\n",
    "neural_rewards = train(env, neural_agent, n_iter)\n",
    "end_Q_neural = np.array(\n",
    "    [neural_agent.model(np.atleast_2d(env.asbinary(i, 2)).astype('float32')).data[0, :] for i in range(4)])"
   ]
  },
  {
   "cell_type": "markdown",
   "metadata": {},
   "source": [
    "Plot of cumulative rewards for the three agents."
   ]
  },
  {
   "cell_type": "code",
   "execution_count": 18,
   "metadata": {
    "scrolled": true
   },
   "outputs": [
    {
     "data": {
      "image/png": "[encoded data removed]",
      "text/plain": [
       "<matplotlib.figure.Figure at 0x7fa7341e1210>"
      ]
     },
     "metadata": {},
     "output_type": "display_data"
    }
   ],
   "source": [
    "plt.plot(np.cumsum(random_rewards))\n",
    "plt.plot(np.cumsum(tabular_rewards))\n",
    "plt.plot(np.cumsum(neural_rewards))\n",
    "plt.legend([\"Random Agent\", \"Tabular Q-Agent\", \"Neural Q-Agent\"])\n",
    "plt.ylabel(\"Cumulative reward\")\n",
    "_ = plt.xlabel(\"Number of iterations\")"
   ]
  },
  {
   "cell_type": "markdown",
   "metadata": {},
   "source": [
    "Plot of Q-values before and after learning."
   ]
  },
  {
   "cell_type": "code",
   "execution_count": 19,
   "metadata": {},
   "outputs": [
    {
     "data": {
      "image/png": "[encoded data removed]",
      "text/plain": [
       "<matplotlib.figure.Figure at 0x7fa734131fd0>"
      ]
     },
     "metadata": {},
     "output_type": "display_data"
    }
   ],
   "source": [
    "Q_max = np.maximum(np.max(start_Q_neural), np.max(end_Q_neural))\n",
    "Q_min = np.minimum(np.min(start_Q_neural), np.min(end_Q_neural))\n",
    "\n",
    "fig, axes = plt.subplots(1, 2, figsize=(7.5, 3))\n",
    "plt.suptitle(\"Q-values for the Neural Q-Agent\")\n",
    "\n",
    "axes[0].set_title(\"Before training\")\n",
    "axes[0].set_xlabel(\"states\")\n",
    "axes[0].set_xticklabels([\"\", (0, 0), (0, 1), (1, 0), (1, 1)])\n",
    "axes[0].set_ylabel(\"actions\")\n",
    "axes[0].imshow(start_Q_neural.T, vmin=Q_min, vmax=Q_max)\n",
    "\n",
    "axes[1].set_title(\"After training\")\n",
    "axes[1].set_xlabel(\"states\")\n",
    "axes[1].set_xticklabels([\"\", (0, 0), (0, 1), (1, 0), (1, 1)])\n",
    "axes[1].set_yticks([])\n",
    "im = axes[1].imshow(end_Q_neural.T, vmin=Q_min, vmax=Q_max)\n",
    "\n",
    "_ = fig.colorbar(im, ax=axes.ravel().tolist(), shrink=0.46)"
   ]
  }
 ],
 "metadata": {
  "kernelspec": {
   "display_name": "Python [conda env:ccn]",
   "language": "python",
   "name": "conda-env-ccn-py"
  },
  "language_info": {
   "codemirror_mode": {
    "name": "ipython",
    "version": 2
   },
   "file_extension": ".py",
   "mimetype": "text/x-python",
   "name": "python",
   "nbconvert_exporter": "python",
   "pygments_lexer": "ipython2",
   "version": "2.7.13"
  }
 },
 "nbformat": 4,
 "nbformat_minor": 2
}
