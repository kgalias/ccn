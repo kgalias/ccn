{
 "cells": [
  {
   "cell_type": "markdown",
   "metadata": {},
   "source": [
    "# Practical assignment 1\n",
    "#### Group 8: Christopher Galias (s1009417) and Robin de Heer (s4349792)\n",
    "\n",
    "A simple multi-layer perceptron with ten nodes in the hidden layer utilized on the MNIST classification task. The code is adapted from the [Chainer Tutorial](https://docs.chainer.org/en/stable/tutorial/basic.html#example-multi-layer-perceptron-on-mnist) and the [CIFAR example](https://github.com/chainer/chainer/blob/master/examples/cifar/train_cifar_custom_loop.py)."
   ]
  },
  {
   "cell_type": "markdown",
   "metadata": {},
   "source": [
    "First, we import the necessary libraries."
   ]
  },
  {
   "cell_type": "code",
   "execution_count": 1,
   "metadata": {
    "collapsed": true,
    "scrolled": true
   },
   "outputs": [],
   "source": [
    "%matplotlib inline\n",
    "import matplotlib.pyplot as plt\n",
    "\n",
    "import numpy as np\n",
    "import chainer\n",
    "from chainer import Variable\n",
    "from chainer import datasets, iterators, optimizers\n",
    "from chainer import Chain\n",
    "import chainer.functions as F\n",
    "import chainer.links as L\n",
    "from chainer.dataset import convert\n",
    "from chainer.datasets import TupleDataset"
   ]
  },
  {
   "cell_type": "markdown",
   "metadata": {},
   "source": [
    "Next, we copy the custom get_mnist() procedure from utils.py."
   ]
  },
  {
   "cell_type": "code",
   "execution_count": 2,
   "metadata": {
    "collapsed": true
   },
   "outputs": [],
   "source": [
    "def get_mnist(n_train=100, n_test=100, n_dim=1, with_label=True, classes=None):\n",
    "    \"\"\"\n",
    "\n",
    "    :param n_train: nr of training examples per class\n",
    "    :param n_test: nr of test examples per class\n",
    "    :param n_dim: 1 or 3 (for convolutional input)\n",
    "    :param with_label: whether or not to also provide labels\n",
    "    :param classes: if not None, then it selects only those classes, e.g. [0, 1]\n",
    "    :return:\n",
    "    \"\"\"\n",
    "\n",
    "    train_data, test_data = chainer.datasets.get_mnist(ndim=n_dim, withlabel=with_label)\n",
    "\n",
    "    if not classes:\n",
    "        classes = np.arange(10)\n",
    "    n_classes = len(classes)\n",
    "\n",
    "    if with_label:\n",
    "\n",
    "        for d in range(2):\n",
    "\n",
    "            if d==0:\n",
    "                data = train_data._datasets[0]\n",
    "                labels = train_data._datasets[1]\n",
    "                n = n_train\n",
    "            else:\n",
    "                data = test_data._datasets[0]\n",
    "                labels = test_data._datasets[1]\n",
    "                n = n_test\n",
    "\n",
    "            for i in range(n_classes):\n",
    "                lidx = np.where(labels == classes[i])[0][:n]\n",
    "                if i==0:\n",
    "                    idx = lidx\n",
    "                else:\n",
    "                    idx = np.hstack([idx,lidx])\n",
    "\n",
    "            L = np.concatenate([i*np.ones(n) for i in np.arange(n_classes)]).astype('int32')\n",
    "\n",
    "            if d==0:\n",
    "                train_data = TupleDataset(data[idx],L)\n",
    "            else:\n",
    "                test_data = TupleDataset(data[idx],L)\n",
    "\n",
    "    else:\n",
    "\n",
    "        tmp1, tmp2 = chainer.datasets.get_mnist(ndim=n_dim,withlabel=True)\n",
    "\n",
    "        for d in range(2):\n",
    "\n",
    "            if d == 0:\n",
    "                data = train_data\n",
    "                labels = tmp1._datasets[1]\n",
    "                n = n_train\n",
    "            else:\n",
    "                data = test_data\n",
    "                labels = tmp2._datasets[1]\n",
    "                n = n_test\n",
    "\n",
    "            for i in range(n_classes):\n",
    "                lidx = np.where(labels == classes[i])[0][:n]\n",
    "                if i == 0:\n",
    "                    idx = lidx\n",
    "                else:\n",
    "                    idx = np.hstack([idx, lidx])\n",
    "\n",
    "            if d == 0:\n",
    "                train_data = data[idx]\n",
    "            else:\n",
    "                test_data = data[idx]\n",
    "\n",
    "    return train_data, test_data"
   ]
  },
  {
   "cell_type": "markdown",
   "metadata": {},
   "source": [
    "Then we set some hyperparameters we will be using, as per the assignment instructions."
   ]
  },
  {
   "cell_type": "code",
   "execution_count": 3,
   "metadata": {
    "collapsed": true
   },
   "outputs": [],
   "source": [
    "batchsize = 32\n",
    "n_units = 10\n",
    "n_epochs = 20"
   ]
  },
  {
   "cell_type": "markdown",
   "metadata": {},
   "source": [
    "What follows is the definition of the chains our model will be comprised of."
   ]
  },
  {
   "cell_type": "code",
   "execution_count": 4,
   "metadata": {
    "collapsed": true
   },
   "outputs": [],
   "source": [
    "class MLP(Chain):\n",
    "    def __init__(self, n_units, n_out):\n",
    "        super(MLP, self).__init__()\n",
    "        with self.init_scope():\n",
    "        # the size of the inputs to each layer will be inferred\n",
    "            self.l1 = L.Linear(None, n_units)\n",
    "            self.l2 = L.Linear(None, n_out)\n",
    "\n",
    "    def __call__(self, x):\n",
    "        h = F.relu(self.l1(x))\n",
    "        return self.l2(h)\n",
    "        \n",
    "class Classifier(Chain):\n",
    "    def __init__(self, predictor):\n",
    "        super(Classifier, self).__init__()\n",
    "        with self.init_scope():\n",
    "            self.predictor = predictor\n",
    "\n",
    "    def __call__(self, x, t):\n",
    "        y = self.predictor(x)\n",
    "        loss = F.softmax_cross_entropy(y, t)\n",
    "        accuracy = F.accuracy(y, t)\n",
    "        return loss"
   ]
  },
  {
   "cell_type": "markdown",
   "metadata": {},
   "source": [
    "Next, we load the MNIST dataset and create the iterators we will be using."
   ]
  },
  {
   "cell_type": "code",
   "execution_count": 5,
   "metadata": {
    "collapsed": true
   },
   "outputs": [],
   "source": [
    "# train, test = chainer.datasets.get_mnist()\n",
    "train, test = get_mnist()\n",
    "\n",
    "train_iter = chainer.iterators.SerialIterator(train, batchsize)\n",
    "test_iter = chainer.iterators.SerialIterator(test, batchsize,\n",
    "                                             repeat=False, \n",
    "                                             shuffle=False)\n",
    "\n",
    "train_count = len(train)\n",
    "test_count = len(test)"
   ]
  },
  {
   "cell_type": "markdown",
   "metadata": {},
   "source": [
    "Then we create the model and setup the optimizer."
   ]
  },
  {
   "cell_type": "code",
   "execution_count": 6,
   "metadata": {
    "collapsed": true
   },
   "outputs": [],
   "source": [
    "model = L.Classifier(MLP(n_units, 10))\n",
    "    \n",
    "optimizer = chainer.optimizers.SGD()\n",
    "optimizer.setup(model)"
   ]
  },
  {
   "cell_type": "markdown",
   "metadata": {},
   "source": [
    "What follows is the training procedure, which also saves the train/test loss, so we can plot it later. The loss and accuracy are also printed below."
   ]
  },
  {
   "cell_type": "code",
   "execution_count": 7,
   "metadata": {
    "scrolled": true
   },
   "outputs": [
    {
     "name": "stdout",
     "output_type": "stream",
     "text": [
      "('epoch: ', 1)\n",
      "train mean loss: 2.34514221954, accuracy: 0.151\n",
      "test mean  loss: 2.24891267776, accuracy: 0.167\n",
      "('epoch: ', 2)\n",
      "train mean loss: 2.19473171234, accuracy: 0.239\n",
      "test mean  loss: 2.18390218925, accuracy: 0.255\n",
      "('epoch: ', 3)\n",
      "train mean loss: 2.11438938904, accuracy: 0.309\n",
      "test mean  loss: 2.11682729149, accuracy: 0.307\n",
      "('epoch: ', 4)\n",
      "train mean loss: 2.02911248779, accuracy: 0.352\n",
      "test mean  loss: 2.03869499016, accuracy: 0.342\n",
      "('epoch: ', 5)\n",
      "train mean loss: 1.99552161407, accuracy: 0.418\n",
      "test mean  loss: 1.95383088875, accuracy: 0.381\n",
      "('epoch: ', 6)\n",
      "train mean loss: 1.84086058426, accuracy: 0.439\n",
      "test mean  loss: 1.87716124535, accuracy: 0.398\n",
      "('epoch: ', 7)\n",
      "train mean loss: 1.75388817215, accuracy: 0.482\n",
      "test mean  loss: 1.8054261446, accuracy: 0.422\n",
      "('epoch: ', 8)\n",
      "train mean loss: 1.66942145538, accuracy: 0.502\n",
      "test mean  loss: 1.73866480827, accuracy: 0.433\n",
      "('epoch: ', 9)\n",
      "train mean loss: 1.63891329193, accuracy: 0.557\n",
      "test mean  loss: 1.6715147543, accuracy: 0.452\n",
      "('epoch: ', 10)\n",
      "train mean loss: 1.51661545181, accuracy: 0.568\n",
      "test mean  loss: 1.60840513897, accuracy: 0.489\n",
      "('epoch: ', 11)\n",
      "train mean loss: 1.44147893143, accuracy: 0.604\n",
      "test mean  loss: 1.54768847847, accuracy: 0.533\n",
      "('epoch: ', 12)\n",
      "train mean loss: 1.36928009796, accuracy: 0.654\n",
      "test mean  loss: 1.48810170269, accuracy: 0.565\n",
      "('epoch: ', 13)\n",
      "train mean loss: 1.34680895615, accuracy: 0.704\n",
      "test mean  loss: 1.43110926819, accuracy: 0.593\n",
      "('epoch: ', 14)\n",
      "train mean loss: 1.23662738037, accuracy: 0.707\n",
      "test mean  loss: 1.37750580025, accuracy: 0.635\n",
      "('epoch: ', 15)\n",
      "train mean loss: 1.17695990372, accuracy: 0.728\n",
      "test mean  loss: 1.32754320431, accuracy: 0.659\n",
      "('epoch: ', 16)\n",
      "train mean loss: 1.12568485832, accuracy: 0.736\n",
      "test mean  loss: 1.28139814377, accuracy: 0.678\n",
      "('epoch: ', 17)\n",
      "train mean loss: 1.10397761726, accuracy: 0.784\n",
      "test mean  loss: 1.23299711609, accuracy: 0.693\n",
      "('epoch: ', 18)\n",
      "train mean loss: 1.01642122841, accuracy: 0.772\n",
      "test mean  loss: 1.1905896349, accuracy: 0.703\n",
      "('epoch: ', 19)\n",
      "train mean loss: 0.965267929077, accuracy: 0.777\n",
      "test mean  loss: 1.14910663891, accuracy: 0.713\n",
      "('epoch: ', 20)\n",
      "train mean loss: 0.919338747025, accuracy: 0.799\n",
      "test mean  loss: 1.10776397324, accuracy: 0.719\n"
     ]
    }
   ],
   "source": [
    "train_losses = []\n",
    "test_losses = []\n",
    "\n",
    "sum_accuracy = 0\n",
    "sum_loss = 0\n",
    "\n",
    "while train_iter.epoch < n_epochs:\n",
    "    batch = train_iter.next()\n",
    "\n",
    "    x_array, t_array = convert.concat_examples(batch, -1)\n",
    "    x = chainer.Variable(x_array)\n",
    "    t = chainer.Variable(t_array)\n",
    "    optimizer.update(model, x, t)\n",
    "    sum_loss += float(model.loss.data) * len(t.data)\n",
    "    sum_accuracy += float(model.accuracy.data) * len(t.data)\n",
    "\n",
    "    if train_iter.is_new_epoch:\n",
    "        print('epoch: ', train_iter.epoch)\n",
    "        train_loss = sum_loss / train_count\n",
    "        train_losses.append(train_loss)\n",
    "        print('train mean loss: {}, accuracy: {}'.format(\n",
    "              train_loss, sum_accuracy / train_count))\n",
    "        \n",
    "        sum_accuracy = 0\n",
    "        sum_loss = 0\n",
    "        model.predictor.train = False\n",
    "        for batch in test_iter:\n",
    "            x_array, t_array = convert.concat_examples(batch, -1)\n",
    "            x = chainer.Variable(x_array)\n",
    "            t = chainer.Variable(t_array)\n",
    "            loss = model(x, t)\n",
    "            sum_loss += float(loss.data) * len(t.data)\n",
    "            sum_accuracy += float(model.accuracy.data) * len(t.data)\n",
    "\n",
    "        test_iter.reset()\n",
    "        model.predictor.train = True\n",
    "        test_loss = sum_loss / test_count\n",
    "        test_losses.append(test_loss)\n",
    "        print('test mean  loss: {}, accuracy: {}'.format(\n",
    "              test_loss, sum_accuracy / test_count))\n",
    "        sum_accuracy = 0\n",
    "        sum_loss = 0"
   ]
  },
  {
   "cell_type": "markdown",
   "metadata": {},
   "source": [
    "Finally, we plot the test/train loss with regards to the number of epochs. We can see the model overfitting a bit towards the end of the training procedure."
   ]
  },
  {
   "cell_type": "code",
   "execution_count": 8,
   "metadata": {},
   "outputs": [
    {
     "data": {
      "image/png": "[encoded data removed]",
      "text/plain": [
       "<matplotlib.figure.Figure at 0x7f4cab312310>"
      ]
     },
     "metadata": {},
     "output_type": "display_data"
    }
   ],
   "source": [
    "plt.plot(test_losses)\n",
    "plt.plot(train_losses)\n",
    "\n",
    "plt.legend([\"test loss\", \"train loss\"])\n",
    "plt.ylabel(\"loss\")\n",
    "plt.xlabel(\"epochs\")\n",
    "\n",
    "# to enforce integer xticks\n",
    "eps = np.linspace(1, n_epochs, n_epochs)\n",
    "_ = plt.xticks(eps)"
   ]
  }
 ],
 "metadata": {
  "kernelspec": {
   "display_name": "Python [conda env:ccn]",
   "language": "python",
   "name": "conda-env-ccn-py"
  },
  "language_info": {
   "codemirror_mode": {
    "name": "ipython",
    "version": 2
   },
   "file_extension": ".py",
   "mimetype": "text/x-python",
   "name": "python",
   "nbconvert_exporter": "python",
   "pygments_lexer": "ipython2",
   "version": "2.7.13"
  }
 },
 "nbformat": 4,
 "nbformat_minor": 2
}
