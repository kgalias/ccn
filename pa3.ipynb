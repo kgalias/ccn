{
 "cells": [
  {
   "cell_type": "markdown",
   "metadata": {},
   "source": [
    "# Practical assignment 3\n",
    "#### Group 8: Christopher Galias (s1009417) and Robin de Heer (s4349792)"
   ]
  },
  {
   "cell_type": "markdown",
   "metadata": {},
   "source": [
    "### 1. Implement an RNN and plot the training and test loss on the toy data as a function of epoch number."
   ]
  },
  {
   "cell_type": "markdown",
   "metadata": {},
   "source": [
    "First, we import the necessary libraries."
   ]
  },
  {
   "cell_type": "code",
   "execution_count": 1,
   "metadata": {
    "collapsed": true
   },
   "outputs": [],
   "source": [
    "from __future__ import division\n",
    "from __future__ import print_function\n",
    "import copy\n",
    "\n",
    "%matplotlib inline\n",
    "import matplotlib.pyplot as plt\n",
    "\n",
    "import numpy as np\n",
    "import chainer\n",
    "from chainer import Variable\n",
    "from chainer import datasets, iterators, optimizers\n",
    "from chainer import Chain\n",
    "import chainer.functions as F\n",
    "import chainer.links as L\n",
    "from chainer.dataset import convert\n",
    "from chainer.datasets import TupleDataset\n",
    "from chainer import training\n",
    "from chainer.training import extensions"
   ]
  },
  {
   "cell_type": "markdown",
   "metadata": {},
   "source": [
    "We set the hyperparameters."
   ]
  },
  {
   "cell_type": "code",
   "execution_count": 2,
   "metadata": {
    "collapsed": true
   },
   "outputs": [],
   "source": [
    "batch_size = 20\n",
    "n_epochs = 100\n",
    "bprop_len = 5"
   ]
  },
  {
   "cell_type": "markdown",
   "metadata": {},
   "source": [
    "Next, we create the toy datasets."
   ]
  },
  {
   "cell_type": "code",
   "execution_count": 3,
   "metadata": {
    "collapsed": true
   },
   "outputs": [],
   "source": [
    "def create_data(n=3000):\n",
    "\n",
    "    X = np.random.rand(n, 1).astype('float32')\n",
    "    T = np.sum(np.hstack((X[0:-1], X[1:])), axis=1)\n",
    "    T = np.hstack([0, T[0:]]).astype('float32')\n",
    "    T = T.reshape((n, 1))\n",
    "    \n",
    "    return TupleDataset(X, T)"
   ]
  },
  {
   "cell_type": "code",
   "execution_count": 4,
   "metadata": {
    "collapsed": true
   },
   "outputs": [],
   "source": [
    "train = create_data()\n",
    "val = create_data()"
   ]
  },
  {
   "cell_type": "markdown",
   "metadata": {},
   "source": [
    "What follows is a simple RNN model definition."
   ]
  },
  {
   "cell_type": "code",
   "execution_count": 5,
   "metadata": {
    "collapsed": true
   },
   "outputs": [],
   "source": [
    "class RNN(Chain):\n",
    "    def __init__(self, n_units):\n",
    "        super(RNN, self).__init__()\n",
    "        with self.init_scope():\n",
    "            self.lstm = L.LSTM(1, n_units)    # the first LSTM layer\n",
    "            self.out = L.Linear(n_units, 1)  # the feed-forward output layer\n",
    "\n",
    "    def reset_state(self):\n",
    "        self.lstm.reset_state()\n",
    "\n",
    "    def __call__(self, x):\n",
    "        # Given the current word, predict the next word.\n",
    "        h = self.lstm(x)\n",
    "        return self.out(h)"
   ]
  },
  {
   "cell_type": "markdown",
   "metadata": {},
   "source": [
    "Next we define a regressor, as our outputs will be continuous."
   ]
  },
  {
   "cell_type": "code",
   "execution_count": 6,
   "metadata": {
    "collapsed": true
   },
   "outputs": [],
   "source": [
    "class Regressor(Chain):\n",
    "    def __init__(self, predictor):\n",
    "        super(Regressor, self).__init__()\n",
    "        with self.init_scope():\n",
    "            self.predictor = predictor\n",
    "\n",
    "    def __call__(self, x, t):\n",
    "        y = self.predictor(x)\n",
    "        loss = F.mean_squared_error(y, t)\n",
    "        chainer.report({'loss': loss}, self)\n",
    "        return loss"
   ]
  },
  {
   "cell_type": "markdown",
   "metadata": {},
   "source": [
    "Next, we define a sequential iterator suitable for our taks. The iterator is copied from [the Recurrent Net Language Model example](https://github.com/chainer/chainer/blob/master/examples/ptb/train_ptb.py) (we added the reset() method). The iterator returns a list of tuples of the current words and the next words (for the 2nd task)."
   ]
  },
  {
   "cell_type": "code",
   "execution_count": 7,
   "metadata": {
    "collapsed": true
   },
   "outputs": [],
   "source": [
    "class ParallelSequentialIterator(chainer.dataset.Iterator):\n",
    "    \n",
    "    def __init__(self, dataset, batch_size, repeat=True):\n",
    "        self.dataset = dataset\n",
    "        self.batch_size = batch_size  # batch size\n",
    "        # Number of completed sweeps over the dataset. In this case, it is\n",
    "        # incremented if every word is visited at least once after the last\n",
    "        # increment.\n",
    "        self.epoch = 0\n",
    "        # True if the epoch is incremented at the last iteration.\n",
    "        self.is_new_epoch = False\n",
    "        self.repeat = repeat\n",
    "        length = len(dataset)\n",
    "        # Offsets maintain the position of each sequence in the mini-batch.\n",
    "        self.offsets = [i * length // batch_size for i in range(batch_size)]\n",
    "        # NOTE: this is not a count of parameter updates. It is just a count of\n",
    "        # calls of ``__next__``.\n",
    "        self.iteration = 0\n",
    "        # use -1 instead of None internally\n",
    "        self._previous_epoch_detail = -1.\n",
    "\n",
    "    def __next__(self):\n",
    "        # This iterator returns a list representing a mini-batch. Each item\n",
    "        # indicates a different position in the original sequence. Each item is\n",
    "        # represented by a pair of two word IDs. The first word is at the\n",
    "        # \"current\" position, while the second word at the next position.\n",
    "        # At each iteration, the iteration count is incremented, which pushes\n",
    "        # forward the \"current\" position.\n",
    "        length = len(self.dataset)\n",
    "        if not self.repeat and self.iteration * self.batch_size >= length:\n",
    "            # If not self.repeat, this iterator stops at the end of the first\n",
    "            # epoch (i.e., when all words are visited once).\n",
    "            raise StopIteration\n",
    "        cur_words = self.get_words()\n",
    "        self._previous_epoch_detail = self.epoch_detail\n",
    "        self.iteration += 1\n",
    "        next_words = self.get_words()\n",
    "\n",
    "        epoch = self.iteration * self.batch_size // length\n",
    "        self.is_new_epoch = self.epoch < epoch\n",
    "        if self.is_new_epoch:\n",
    "            self.epoch = epoch\n",
    "\n",
    "        return list(zip(cur_words, next_words))\n",
    "\n",
    "    @property\n",
    "    def epoch_detail(self):\n",
    "        # Floating point version of epoch.\n",
    "        return self.iteration * self.batch_size / len(self.dataset)\n",
    "\n",
    "    @property\n",
    "    def previous_epoch_detail(self):\n",
    "        if self._previous_epoch_detail < 0:\n",
    "            return None\n",
    "        return self._previous_epoch_detail\n",
    "    \n",
    "    def get_words(self):\n",
    "        # It returns a list of current words.\n",
    "        return [self.dataset[(offset + self.iteration) % len(self.dataset)]\n",
    "                for offset in self.offsets]\n",
    "\n",
    "    def serialize(self, serializer):\n",
    "        # It is important to serialize the state to be recovered on resume.\n",
    "        self.iteration = serializer('iteration', self.iteration)\n",
    "        self.epoch = serializer('epoch', self.epoch)\n",
    "        try:\n",
    "            self._previous_epoch_detail = serializer(\n",
    "                'previous_epoch_detail', self._previous_epoch_detail)\n",
    "        except KeyError:\n",
    "            # guess previous_epoch_detail for older version\n",
    "            self._previous_epoch_detail = self.epoch + \\\n",
    "                (self.current_position - self.batch_size) / len(self.dataset)\n",
    "            if self.epoch_detail > 0:\n",
    "                self._previous_epoch_detail = max(\n",
    "                    self._previous_epoch_detail, 0.)\n",
    "            else:\n",
    "                self._previous_epoch_detail = -1.\n",
    "        \n",
    "    def reset(self):\n",
    "        self.epoch = 0\n",
    "        self.is_new_epoch = False\n",
    "        self.iteration = 0"
   ]
  },
  {
   "cell_type": "markdown",
   "metadata": {},
   "source": [
    "We create the iterators from the toy data."
   ]
  },
  {
   "cell_type": "code",
   "execution_count": 8,
   "metadata": {
    "collapsed": true
   },
   "outputs": [],
   "source": [
    "train_iter = ParallelSequentialIterator(train, batch_size)\n",
    "val_iter = ParallelSequentialIterator(val, 1, repeat=False)"
   ]
  },
  {
   "cell_type": "markdown",
   "metadata": {},
   "source": [
    "We set up the model and optimizer."
   ]
  },
  {
   "cell_type": "code",
   "execution_count": 9,
   "metadata": {
    "collapsed": true
   },
   "outputs": [],
   "source": [
    "rnn = RNN(n_units=5)\n",
    "model = Regressor(rnn)\n",
    "optimizer = optimizers.SGD()\n",
    "optimizer.setup(model)"
   ]
  },
  {
   "cell_type": "markdown",
   "metadata": {},
   "source": [
    "Evaluation is a bit more tricky than before, hence we're going to use a custom function (based on the [custom loop version of the previous example](https://github.com/chainer/chainer/blob/master/examples/ptb/train_ptb_custom_loop.py))."
   ]
  },
  {
   "cell_type": "code",
   "execution_count": 10,
   "metadata": {
    "collapsed": true
   },
   "outputs": [],
   "source": [
    "def evaluate(model, iter):\n",
    "    model.predictor.train = False\n",
    "    evaluator = model.copy()  # to use different state\n",
    "    evaluator.predictor.reset_state()  # initialize state\n",
    "    evaluator.predictor.train = False\n",
    "    sum_loss = 0\n",
    "    data_count = 0\n",
    "    for batch in copy.copy(iter):\n",
    "        x = np.array(batch)[:, 0, 0]\n",
    "        t = np.array(batch)[:, 0, 1]\n",
    "        loss = evaluator(x, t)\n",
    "        sum_loss += loss.data\n",
    "        data_count += 1\n",
    "    model.predictor.train = True\n",
    "    return float(sum_loss) / data_count"
   ]
  },
  {
   "cell_type": "markdown",
   "metadata": {},
   "source": [
    "What follows is the training loop. It is based on the aforementioned example as well."
   ]
  },
  {
   "cell_type": "code",
   "execution_count": 11,
   "metadata": {
    "scrolled": true
   },
   "outputs": [
    {
     "name": "stdout",
     "output_type": "stream",
     "text": [
      "epoch:  1\n",
      "training loss:  0.156017860174\n",
      "validation loss:  0.150011605007\n",
      "epoch:  2\n",
      "training loss:  0.136367401481\n",
      "validation loss:  0.132451429072\n",
      "epoch:  3\n",
      "training loss:  0.116545097828\n",
      "validation loss:  0.110245530791\n",
      "epoch:  4\n",
      "training loss:  0.0918223547935\n",
      "validation loss:  0.0860099291927\n",
      "epoch:  5\n",
      "training loss:  0.076482194066\n",
      "validation loss:  0.0745546828922\n",
      "epoch:  6\n",
      "training loss:  0.0669136595726\n",
      "validation loss:  0.0665234309289\n",
      "epoch:  7\n",
      "training loss:  0.0608870363235\n",
      "validation loss:  0.0596334321181\n",
      "epoch:  8\n",
      "training loss:  0.0540245780349\n",
      "validation loss:  0.0538933482082\n",
      "epoch:  9\n",
      "training loss:  0.0500369769335\n",
      "validation loss:  0.0491405459768\n",
      "epoch:  10\n",
      "training loss:  0.0452503019571\n",
      "validation loss:  0.0452099496009\n",
      "epoch:  11\n",
      "training loss:  0.0427107670903\n",
      "validation loss:  0.041963392589\n",
      "epoch:  12\n",
      "training loss:  0.0393339237571\n",
      "validation loss:  0.0392850105578\n",
      "epoch:  13\n",
      "training loss:  0.0377363958955\n",
      "validation loss:  0.0370766152368\n",
      "epoch:  14\n",
      "training loss:  0.0353296051919\n",
      "validation loss:  0.0352548339669\n",
      "epoch:  15\n",
      "training loss:  0.0343205654621\n",
      "validation loss:  0.033749325345\n",
      "epoch:  16\n",
      "training loss:  0.0325938847661\n",
      "validation loss:  0.0325012804066\n",
      "epoch:  17\n",
      "training loss:  0.0319383758307\n",
      "validation loss:  0.0314620660745\n",
      "epoch:  18\n",
      "training loss:  0.0306927375495\n",
      "validation loss:  0.0305918641074\n",
      "epoch:  19\n",
      "training loss:  0.0302425152063\n",
      "validation loss:  0.0298583205644\n",
      "epoch:  20\n",
      "training loss:  0.0293381273746\n",
      "validation loss:  0.0292353071162\n",
      "epoch:  21\n",
      "training loss:  0.0290046675503\n",
      "validation loss:  0.0287018286891\n",
      "epoch:  22\n",
      "training loss:  0.0283424390107\n",
      "validation loss:  0.028241053542\n",
      "epoch:  23\n",
      "training loss:  0.0280756056309\n",
      "validation loss:  0.0278395136957\n",
      "epoch:  24\n",
      "training loss:  0.027584984377\n",
      "validation loss:  0.0274864250328\n",
      "epoch:  25\n",
      "training loss:  0.0273578354716\n",
      "validation loss:  0.0271731468017\n",
      "epoch:  26\n",
      "training loss:  0.026988382712\n",
      "validation loss:  0.0268927484343\n",
      "epoch:  27\n",
      "training loss:  0.0267872712016\n",
      "validation loss:  0.0266396503722\n",
      "epoch:  28\n",
      "training loss:  0.0265027738363\n",
      "validation loss:  0.0264093557957\n",
      "epoch:  29\n",
      "training loss:  0.0263213147223\n",
      "validation loss:  0.0261982176442\n",
      "epoch:  30\n",
      "training loss:  0.0260956663638\n",
      "validation loss:  0.0260032759978\n",
      "epoch:  31\n",
      "training loss:  0.0259312023222\n",
      "validation loss:  0.0258221156489\n",
      "epoch:  32\n",
      "training loss:  0.0257455267012\n",
      "validation loss:  0.0256527539288\n",
      "epoch:  33\n",
      "training loss:  0.0255971576273\n",
      "validation loss:  0.0254935578991\n",
      "epoch:  34\n",
      "training loss:  0.0254377627373\n",
      "validation loss:  0.0253431715603\n",
      "epoch:  35\n",
      "training loss:  0.0253052608669\n",
      "validation loss:  0.0252004654292\n",
      "epoch:  36\n",
      "training loss:  0.0251622147858\n",
      "validation loss:  0.0250644902246\n",
      "epoch:  37\n",
      "training loss:  0.0250454868376\n",
      "validation loss:  0.0249344391319\n",
      "epoch:  38\n",
      "training loss:  0.0249115784466\n",
      "validation loss:  0.0248096219193\n",
      "epoch:  39\n",
      "training loss:  0.0248103955388\n",
      "validation loss:  0.0246894450513\n",
      "epoch:  40\n",
      "training loss:  0.0246804086864\n",
      "validation loss:  0.0245733834688\n",
      "epoch:  41\n",
      "training loss:  0.0245943178236\n",
      "validation loss:  0.0244609819887\n",
      "epoch:  42\n",
      "training loss:  0.0244644903392\n",
      "validation loss:  0.0243518380949\n",
      "epoch:  43\n",
      "training loss:  0.0243928356469\n",
      "validation loss:  0.0242455904209\n",
      "epoch:  44\n",
      "training loss:  0.0242604912072\n",
      "validation loss:  0.0241419214037\n",
      "epoch:  45\n",
      "training loss:  0.0242024539411\n",
      "validation loss:  0.0240405404086\n",
      "epoch:  46\n",
      "training loss:  0.0240657208115\n",
      "validation loss:  0.023941188003\n",
      "epoch:  47\n",
      "training loss:  0.024020395875\n",
      "validation loss:  0.0238436350742\n",
      "epoch:  48\n",
      "training loss:  0.0238779998571\n",
      "validation loss:  0.0237476710603\n",
      "epoch:  49\n",
      "training loss:  0.0238444690406\n",
      "validation loss:  0.0236531108432\n",
      "epoch:  50\n",
      "training loss:  0.023695570007\n",
      "validation loss:  0.0235597821724\n",
      "epoch:  51\n",
      "training loss:  0.0236729285121\n",
      "validation loss:  0.0234675383179\n",
      "epoch:  52\n",
      "training loss:  0.023517016843\n",
      "validation loss:  0.0233762400438\n",
      "epoch:  53\n",
      "training loss:  0.0235044167936\n",
      "validation loss:  0.0232857699672\n",
      "epoch:  54\n",
      "training loss:  0.0233412130922\n",
      "validation loss:  0.0231960154509\n",
      "epoch:  55\n",
      "training loss:  0.0233378832042\n",
      "validation loss:  0.0231068793163\n",
      "epoch:  56\n",
      "training loss:  0.0231672617048\n",
      "validation loss:  0.0230182732072\n",
      "epoch:  57\n",
      "training loss:  0.0231724970043\n",
      "validation loss:  0.0229301149635\n",
      "epoch:  58\n",
      "training loss:  0.0229944426566\n",
      "validation loss:  0.0228423331257\n",
      "epoch:  59\n",
      "training loss:  0.0230076056719\n",
      "validation loss:  0.0227548543461\n",
      "epoch:  60\n",
      "training loss:  0.022822175175\n",
      "validation loss:  0.0226676194869\n",
      "epoch:  61\n",
      "training loss:  0.0228426720202\n",
      "validation loss:  0.0225805672924\n",
      "epoch:  62\n",
      "training loss:  0.0226499706507\n",
      "validation loss:  0.0224936434309\n",
      "epoch:  63\n",
      "training loss:  0.0226772640646\n",
      "validation loss:  0.0224067988327\n",
      "epoch:  64\n",
      "training loss:  0.0224774146825\n",
      "validation loss:  0.0223199745496\n",
      "epoch:  65\n",
      "training loss:  0.0225109905005\n",
      "validation loss:  0.0222331301069\n",
      "epoch:  66\n",
      "training loss:  0.0223041343689\n",
      "validation loss:  0.0221462169899\n",
      "epoch:  67\n",
      "training loss:  0.0223435153067\n",
      "validation loss:  0.0220591885952\n",
      "epoch:  68\n",
      "training loss:  0.0221297960728\n",
      "validation loss:  0.0219720016307\n",
      "epoch:  69\n",
      "training loss:  0.0221745075285\n",
      "validation loss:  0.0218846074454\n",
      "epoch:  70\n",
      "training loss:  0.0219540652633\n",
      "validation loss:  0.0217969645568\n",
      "epoch:  71\n",
      "training loss:  0.0220036531985\n",
      "validation loss:  0.0217090320463\n",
      "epoch:  72\n",
      "training loss:  0.0217766328901\n",
      "validation loss:  0.0216207646141\n",
      "epoch:  73\n",
      "training loss:  0.0218306435645\n",
      "validation loss:  0.0215321182485\n",
      "epoch:  74\n",
      "training loss:  0.021597179696\n",
      "validation loss:  0.0214430487593\n",
      "epoch:  75\n",
      "training loss:  0.0216551628709\n",
      "validation loss:  0.0213535160116\n",
      "epoch:  76\n",
      "training loss:  0.0214153887331\n",
      "validation loss:  0.0212634733305\n",
      "epoch:  77\n",
      "training loss:  0.0214768917859\n",
      "validation loss:  0.0211728787559\n",
      "epoch:  78\n",
      "training loss:  0.0212309419364\n",
      "validation loss:  0.0210816880672\n",
      "epoch:  79\n",
      "training loss:  0.0212955054641\n",
      "validation loss:  0.0209898575886\n",
      "epoch:  80\n",
      "training loss:  0.0210435122997\n",
      "validation loss:  0.0208973440383\n",
      "epoch:  81\n",
      "training loss:  0.0211106809974\n",
      "validation loss:  0.0208041038423\n",
      "epoch:  82\n",
      "training loss:  0.020852772221\n",
      "validation loss:  0.0207100919392\n",
      "epoch:  83\n",
      "training loss:  0.0209220759571\n",
      "validation loss:  0.0206152669199\n",
      "epoch:  84\n",
      "training loss:  0.0206583936512\n",
      "validation loss:  0.0205195850068\n",
      "epoch:  85\n",
      "training loss:  0.020729367435\n",
      "validation loss:  0.0204230057643\n",
      "epoch:  86\n",
      "training loss:  0.0204600510746\n",
      "validation loss:  0.0203254794865\n",
      "epoch:  87\n",
      "training loss:  0.0205322107673\n",
      "validation loss:  0.0202269672464\n",
      "epoch:  88\n",
      "training loss:  0.0202574148774\n",
      "validation loss:  0.0201274288053\n",
      "epoch:  89\n",
      "training loss:  0.0203302812576\n",
      "validation loss:  0.0200268235256\n",
      "epoch:  90\n",
      "training loss:  0.0200501710922\n",
      "validation loss:  0.0199251089562\n",
      "epoch:  91\n",
      "training loss:  0.0201232595742\n",
      "validation loss:  0.019822249874\n",
      "epoch:  92\n",
      "training loss:  0.0198380130529\n",
      "validation loss:  0.019718201432\n",
      "epoch:  93\n",
      "training loss:  0.0199108316004\n",
      "validation loss:  0.0196129318749\n",
      "epoch:  94\n",
      "training loss:  0.0196206508577\n",
      "validation loss:  0.0195064032861\n",
      "epoch:  95\n",
      "training loss:  0.0196927112341\n",
      "validation loss:  0.0193985809831\n",
      "epoch:  96\n",
      "training loss:  0.0193978088349\n",
      "validation loss:  0.0192894323221\n",
      "epoch:  97\n",
      "training loss:  0.0194686299562\n",
      "validation loss:  0.0191789284275\n",
      "epoch:  98\n",
      "training loss:  0.019169248268\n",
      "validation loss:  0.0190670356933\n",
      "epoch:  99\n",
      "training loss:  0.0192383420467\n",
      "validation loss:  0.0189537308881\n",
      "epoch:  100\n",
      "training loss:  0.0189347535372\n",
      "validation loss:  0.0188389894982\n"
     ]
    }
   ],
   "source": [
    "train_iter.reset()\n",
    "val_iter.reset()\n",
    "\n",
    "train_losses = []\n",
    "val_losses = []\n",
    "\n",
    "sum_loss = 0\n",
    "count = 0\n",
    "iteration = 0\n",
    "while train_iter.epoch < n_epochs:\n",
    "    loss = 0\n",
    "    iteration += 1\n",
    "    # Progress the dataset iterator for bprop_len words at each iteration.\n",
    "    for i in range(bprop_len):\n",
    "        batch = train_iter.__next__()\n",
    "        x = np.array(batch)[:, 0, 0]\n",
    "        t = np.array(batch)[:, 0, 1]\n",
    "        # Compute the loss at this time step and accumulate it\n",
    "        loss += optimizer.target(chainer.Variable(x), chainer.Variable(t))\n",
    "        count += 1\n",
    "\n",
    "    sum_loss += loss.data\n",
    "    optimizer.target.cleargrads()  # Clear the parameter gradients\n",
    "    loss.backward()  # Backprop\n",
    "    loss.unchain_backward()  # Truncate the graph\n",
    "    optimizer.update()  # Update the parameters\n",
    "    \n",
    "    if train_iter.is_new_epoch:\n",
    "        val_loss = evaluate(model, val_iter)\n",
    "        val_losses.append(val_loss)\n",
    "        train_loss = float(sum_loss) / count\n",
    "        train_losses.append(train_loss)\n",
    "        \n",
    "        print('epoch: ', train_iter.epoch)\n",
    "        print('training loss: ', train_loss)\n",
    "        print('validation loss: ', val_loss)\n",
    "        rnn.reset_state()\n",
    "    \n",
    "    if iteration % 20 == 0:\n",
    "        sum_loss = 0\n",
    "        count = 0"
   ]
  },
  {
   "cell_type": "markdown",
   "metadata": {},
   "source": [
    "Finally, we plot the losses."
   ]
  },
  {
   "cell_type": "code",
   "execution_count": 12,
   "metadata": {},
   "outputs": [
    {
     "data": {
      "image/png": "[encoded data removed]",
      "text/plain": [
       "<matplotlib.figure.Figure at 0x7fb74cfc11d0>"
      ]
     },
     "metadata": {},
     "output_type": "display_data"
    }
   ],
   "source": [
    "plt.plot(val_losses)\n",
    "plt.plot(train_losses)\n",
    "plt.legend([\"validation loss\", \"train loss\"])\n",
    "plt.ylabel(\"loss\")\n",
    "_ = plt.xlabel(\"epochs\")"
   ]
  },
  {
   "cell_type": "markdown",
   "metadata": {},
   "source": [
    "### 2. Run your network for 100 time steps on test data; plot the predicted sum and the actual sum as a function of time."
   ]
  },
  {
   "cell_type": "markdown",
   "metadata": {},
   "source": [
    "We copy to previous model to use a new state."
   ]
  },
  {
   "cell_type": "code",
   "execution_count": 13,
   "metadata": {
    "collapsed": true
   },
   "outputs": [],
   "source": [
    "eval_model = model.copy()  # to use different state\n",
    "eval_model.predictor.reset_state()  # initialize state\n",
    "predicted_sums = []\n",
    "real_sums = []\n",
    "for batch in copy.copy(val_iter):\n",
    "    x = np.array(batch)[:, 0, 0]\n",
    "    t = np.array(batch)[:, 0, 1]\n",
    "    y = eval_model.predictor(x)\n",
    "    predicted_sums.append(y.data.squeeze())\n",
    "    real_sums.append(t.squeeze())"
   ]
  },
  {
   "cell_type": "markdown",
   "metadata": {},
   "source": [
    "Finally, we plot the predicted and real sum over 100 timesteps."
   ]
  },
  {
   "cell_type": "code",
   "execution_count": 14,
   "metadata": {},
   "outputs": [
    {
     "data": {
      "image/png": "[encoded data removed]",
      "text/plain": [
       "<matplotlib.figure.Figure at 0x7fb749b531d0>"
      ]
     },
     "metadata": {},
     "output_type": "display_data"
    }
   ],
   "source": [
    "plt.plot(predicted_sums[:100])\n",
    "plt.plot(real_sums[:100])\n",
    "plt.legend([\"pred\", \"real\"])\n",
    "plt.ylabel(\"sum\")\n",
    "_ = plt.xlabel(\"timestep\")"
   ]
  }
 ],
 "metadata": {
  "kernelspec": {
   "display_name": "Python [conda env:ccn]",
   "language": "python",
   "name": "conda-env-ccn-py"
  },
  "language_info": {
   "codemirror_mode": {
    "name": "ipython",
    "version": 2
   },
   "file_extension": ".py",
   "mimetype": "text/x-python",
   "name": "python",
   "nbconvert_exporter": "python",
   "pygments_lexer": "ipython2",
   "version": "2.7.13"
  }
 },
 "nbformat": 4,
 "nbformat_minor": 2
}
