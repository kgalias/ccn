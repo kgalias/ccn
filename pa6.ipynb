{
 "cells": [
  {
   "cell_type": "markdown",
   "metadata": {},
   "source": [
    "# Practical assignment 6\n",
    "#### Group 8: Christopher Galias (s1009417) and Robin de Heer (s4349792)"
   ]
  },
  {
   "cell_type": "markdown",
   "metadata": {},
   "source": [
    "Import libraries."
   ]
  },
  {
   "cell_type": "code",
   "execution_count": 1,
   "metadata": {
    "collapsed": true
   },
   "outputs": [],
   "source": [
    "import matplotlib.pyplot as plt\n",
    "%matplotlib inline\n",
    "\n",
    "import numpy as np\n",
    "import chainer\n",
    "from chainer import Variable\n",
    "from chainer import datasets, iterators, optimizers\n",
    "from chainer import Chain\n",
    "import chainer.functions as F\n",
    "import chainer.links as L\n",
    "from chainer.dataset import convert\n",
    "from chainer.datasets import TupleDataset"
   ]
  },
  {
   "cell_type": "markdown",
   "metadata": {},
   "source": [
    "Hyperparameters."
   ]
  },
  {
   "cell_type": "code",
   "execution_count": 2,
   "metadata": {
    "collapsed": true
   },
   "outputs": [],
   "source": [
    "batch_size = 32\n",
    "n_epochs = 250"
   ]
  },
  {
   "cell_type": "markdown",
   "metadata": {},
   "source": [
    "Helper function for getting the data."
   ]
  },
  {
   "cell_type": "code",
   "execution_count": 3,
   "metadata": {
    "collapsed": true
   },
   "outputs": [],
   "source": [
    "def get_mnist(n_train=100, n_test=100, n_dim=1, with_label=True, classes=None):\n",
    "    \"\"\"\n",
    "\n",
    "    :param n_train: nr of training examples per class\n",
    "    :param n_test: nr of test examples per class\n",
    "    :param n_dim: 1 or 3 (for convolutional input)\n",
    "    :param with_label: whether or not to also provide labels\n",
    "    :param classes: if not None, then it selects only those classes, e.g. [0, 1]\n",
    "    :return:\n",
    "    \"\"\"\n",
    "\n",
    "    train_data, test_data = chainer.datasets.get_mnist(ndim=n_dim, withlabel=with_label)\n",
    "\n",
    "    if not classes:\n",
    "        classes = np.arange(10)\n",
    "    n_classes = len(classes)\n",
    "\n",
    "    if with_label:\n",
    "\n",
    "        for d in range(2):\n",
    "\n",
    "            if d==0:\n",
    "                data = train_data._datasets[0]\n",
    "                labels = train_data._datasets[1]\n",
    "                n = n_train\n",
    "            else:\n",
    "                data = test_data._datasets[0]\n",
    "                labels = test_data._datasets[1]\n",
    "                n = n_test\n",
    "\n",
    "            for i in range(n_classes):\n",
    "                lidx = np.where(labels == classes[i])[0][:n]\n",
    "                if i==0:\n",
    "                    idx = lidx\n",
    "                else:\n",
    "                    idx = np.hstack([idx,lidx])\n",
    "\n",
    "            L = np.concatenate([i*np.ones(n) for i in np.arange(n_classes)]).astype('int32')\n",
    "\n",
    "            if d==0:\n",
    "                train_data = TupleDataset(data[idx],L)\n",
    "            else:\n",
    "                test_data = TupleDataset(data[idx],L)\n",
    "\n",
    "    else:\n",
    "\n",
    "        tmp1, tmp2 = chainer.datasets.get_mnist(ndim=n_dim,withlabel=True)\n",
    "\n",
    "        for d in range(2):\n",
    "\n",
    "            if d == 0:\n",
    "                data = train_data\n",
    "                labels = tmp1._datasets[1]\n",
    "                n = n_train\n",
    "            else:\n",
    "                data = test_data\n",
    "                labels = tmp2._datasets[1]\n",
    "                n = n_test\n",
    "\n",
    "            for i in range(n_classes):\n",
    "                lidx = np.where(labels == classes[i])[0][:n]\n",
    "                if i == 0:\n",
    "                    idx = lidx\n",
    "                else:\n",
    "                    idx = np.hstack([idx, lidx])\n",
    "\n",
    "            if d == 0:\n",
    "                train_data = data[idx]\n",
    "            else:\n",
    "                test_data = data[idx]\n",
    "\n",
    "    return train_data, test_data"
   ]
  },
  {
   "cell_type": "markdown",
   "metadata": {},
   "source": [
    "Custom iterator."
   ]
  },
  {
   "cell_type": "code",
   "execution_count": 4,
   "metadata": {
    "collapsed": true
   },
   "outputs": [],
   "source": [
    "class RandomIterator(object):\n",
    "    \"\"\"\n",
    "    Generates random subsets of data\n",
    "    \"\"\"\n",
    "\n",
    "    def __init__(self, data, batch_size=1):\n",
    "        \"\"\"\n",
    "\n",
    "        Args:\n",
    "            data (TupleDataset):\n",
    "            batch_size (int):\n",
    "\n",
    "        Returns:\n",
    "            list of batches consisting of (input, output) pairs\n",
    "        \"\"\"\n",
    "\n",
    "        self.data = data\n",
    "\n",
    "        self.batch_size = batch_size\n",
    "        self.n_batches = len(self.data) // batch_size\n",
    "\n",
    "    def __iter__(self):\n",
    "\n",
    "        self.idx = -1\n",
    "        self._order = np.random.permutation(len(self.data))[:(self.n_batches * self.batch_size)]\n",
    "\n",
    "        return self\n",
    "\n",
    "    def next(self):\n",
    "\n",
    "        self.idx += 1\n",
    "\n",
    "        if self.idx == self.n_batches:\n",
    "            raise StopIteration\n",
    "\n",
    "        i = self.idx * self.batch_size\n",
    "\n",
    "        # handles unlabeled and labeled data\n",
    "        if isinstance(self.data, np.ndarray):\n",
    "            return self.data[self._order[i:(i + self.batch_size)]]\n",
    "        else:\n",
    "            return list(self.data[self._order[i:(i + self.batch_size)]])"
   ]
  },
  {
   "cell_type": "markdown",
   "metadata": {},
   "source": [
    "Get data."
   ]
  },
  {
   "cell_type": "code",
   "execution_count": 5,
   "metadata": {
    "collapsed": true
   },
   "outputs": [],
   "source": [
    "train_data, _ = get_mnist(n_train=1000, n_test=100, with_label=False, classes=[0])"
   ]
  },
  {
   "cell_type": "markdown",
   "metadata": {},
   "source": [
    "### 1. Implement a generator and a discriminator network. Use these to generate MNIST images. Plot the change in the loss for both networks."
   ]
  },
  {
   "cell_type": "markdown",
   "metadata": {},
   "source": [
    "Model definitions."
   ]
  },
  {
   "cell_type": "code",
   "execution_count": 6,
   "metadata": {
    "collapsed": true
   },
   "outputs": [],
   "source": [
    "class Generator(Chain):\n",
    "    def __init__(self):\n",
    "        super(Generator, self).__init__()\n",
    "        with self.init_scope():\n",
    "            self.l1 = L.Linear(None, 10 * 784)\n",
    "            self.bn = L.BatchNormalization(7840)\n",
    "            self.dc1 = L.Deconvolution2D(in_channels=10, out_channels=1, ksize=3, stride=1, pad=1, outsize=(28, 28))\n",
    "\n",
    "    def __call__(self, x):\n",
    "        h = F.relu(self.l1(x))\n",
    "        h = self.bn(h)\n",
    "        h = F.reshape(h, (-1, 10, 28, 28))\n",
    "        h = self.dc1(h)\n",
    "        return F.sigmoid(h)\n",
    "    \n",
    "class Discriminator(Chain):\n",
    "    def __init__(self):\n",
    "        super(Discriminator, self).__init__()\n",
    "        with self.init_scope():\n",
    "            self.c1 = L.Convolution2D(in_channels=1, \n",
    "                                      out_channels=1, \n",
    "                                      ksize=3, \n",
    "                                      stride=1, \n",
    "                                      pad=0)\n",
    "            self.l1 = L.Linear(None, 1)\n",
    "            \n",
    "    def __call__(self, x):\n",
    "        h = F.relu(self.c1(x))\n",
    "        return self.l1(h)"
   ]
  },
  {
   "cell_type": "markdown",
   "metadata": {},
   "source": [
    "Helper function for creating optimizers."
   ]
  },
  {
   "cell_type": "code",
   "execution_count": 7,
   "metadata": {
    "collapsed": true
   },
   "outputs": [],
   "source": [
    "def make_optimizer(model, alpha=0.0002, beta1=0.5):\n",
    "    optimizer = chainer.optimizers.Adam(alpha=alpha, beta1=beta1)\n",
    "    optimizer.setup(model)\n",
    "    return optimizer"
   ]
  },
  {
   "cell_type": "markdown",
   "metadata": {},
   "source": [
    "Setup models, optimizers and the iterator."
   ]
  },
  {
   "cell_type": "code",
   "execution_count": 8,
   "metadata": {
    "collapsed": true
   },
   "outputs": [],
   "source": [
    "gen = Generator()\n",
    "dis = Discriminator()\n",
    "\n",
    "opt_gen = make_optimizer(gen)\n",
    "opt_dis = make_optimizer(dis)\n",
    "\n",
    "train_iter = RandomIterator(train_data, batch_size)"
   ]
  },
  {
   "cell_type": "markdown",
   "metadata": {},
   "source": [
    "Helper training function."
   ]
  },
  {
   "cell_type": "code",
   "execution_count": 9,
   "metadata": {
    "collapsed": true
   },
   "outputs": [],
   "source": [
    "def train_GAN(gen, dis, opt_gen, opt_dis, train_iter, n_epochs, batch_size):\n",
    "    \n",
    "    losses_dis = []\n",
    "    losses_gen = []\n",
    "    \n",
    "    for i in range(n_epochs):\n",
    "        \n",
    "        losses_dis_epoch = []\n",
    "        losses_gen_epoch = []\n",
    "        \n",
    "        for batch in train_iter:\n",
    "        \n",
    "            noise_samples = np.random.uniform(0, 1, size=(batch_size, 1)).astype('float32')\n",
    "            gen_samples = gen(noise_samples)\n",
    "            real_samples = np.array(batch).reshape(batch_size, 1, 28, 28)\n",
    "\n",
    "            y_fake = dis(gen_samples)\n",
    "            y_real = dis(real_samples)\n",
    "\n",
    "            loss_dis = F.sigmoid_cross_entropy(y_fake, np.zeros(y_fake.shape).astype(np.int32)) + \\\n",
    "                F.sigmoid_cross_entropy(y_real, np.ones(y_real.shape).astype(np.int32))\n",
    "            losses_dis_epoch.append(loss_dis.data)\n",
    "            dis.cleargrads()\n",
    "            loss_dis.backward()\n",
    "            opt_dis.update()\n",
    "\n",
    "            loss_gen = F.sigmoid_cross_entropy(y_fake, np.ones(y_fake.shape, dtype=np.int32))\n",
    "            losses_gen_epoch.append(loss_gen.data)\n",
    "            gen.cleargrads()\n",
    "            loss_gen.backward()\n",
    "            opt_gen.update()\n",
    "        \n",
    "        losses_dis.append(np.array(losses_dis_epoch).mean())\n",
    "        losses_gen.append(np.array(losses_gen_epoch).mean())\n",
    "        \n",
    "    return losses_dis, losses_gen"
   ]
  },
  {
   "cell_type": "markdown",
   "metadata": {},
   "source": [
    "Train the GAN, save the losses."
   ]
  },
  {
   "cell_type": "code",
   "execution_count": 10,
   "metadata": {
    "collapsed": true,
    "scrolled": true
   },
   "outputs": [],
   "source": [
    "losses_dis, losses_gen = train_GAN(gen, dis, opt_gen, opt_dis, train_iter, n_epochs, batch_size)"
   ]
  },
  {
   "cell_type": "markdown",
   "metadata": {},
   "source": [
    "Plot the losses during training."
   ]
  },
  {
   "cell_type": "code",
   "execution_count": 11,
   "metadata": {
    "scrolled": true
   },
   "outputs": [
    {
     "data": {
      "image/png": "[encoded data removed]",
      "text/plain": [
       "<matplotlib.figure.Figure at 0x7f3829030a50>"
      ]
     },
     "metadata": {},
     "output_type": "display_data"
    }
   ],
   "source": [
    "plt.plot(losses_dis)\n",
    "plt.plot(losses_gen)\n",
    "plt.title(\"Change in loss during training\")\n",
    "plt.xlabel(\"Number of epochs\")\n",
    "plt.ylabel(\"Loss\")\n",
    "_ = plt.legend([\"Discriminator\", \"Generator\"])"
   ]
  },
  {
   "cell_type": "markdown",
   "metadata": {},
   "source": [
    "### 2. Generate 10 samples using the generator. Comment on your results."
   ]
  },
  {
   "cell_type": "markdown",
   "metadata": {},
   "source": [
    "Generate some samples and plot them."
   ]
  },
  {
   "cell_type": "code",
   "execution_count": 12,
   "metadata": {
    "scrolled": false
   },
   "outputs": [
    {
     "data": {
      "image/png": "[encoded data removed]",
      "text/plain": [
       "<matplotlib.figure.Figure at 0x7f3829030950>"
      ]
     },
     "metadata": {},
     "output_type": "display_data"
    }
   ],
   "source": [
    "noise_samples = np.random.uniform(0, 1, size=(10, 1)).astype('float32')\n",
    "gen_samples = gen(noise_samples)\n",
    "gen_pics = gen_samples.data\n",
    "\n",
    "f, axes = plt.subplots(2, 5, sharey=True, figsize=(13.5, 5))\n",
    "for i in range(10):\n",
    "    plt.subplot(2, 5, i+1)\n",
    "    plt.imshow(gen_pics[i].reshape(28, 28).T)\n",
    "    plt.axis('off')\n",
    "_ = plt.suptitle(\"Some of the generated images\")"
   ]
  },
  {
   "cell_type": "markdown",
   "metadata": {},
   "source": [
    "The generator can create sensible zeroes, though some of them still leave a lot to be desired. It is most likely possible to tune the architecture to produce better results."
   ]
  }
 ],
 "metadata": {
  "kernelspec": {
   "display_name": "Python [conda env:ccn]",
   "language": "python",
   "name": "conda-env-ccn-py"
  },
  "language_info": {
   "codemirror_mode": {
    "name": "ipython",
    "version": 2
   },
   "file_extension": ".py",
   "mimetype": "text/x-python",
   "name": "python",
   "nbconvert_exporter": "python",
   "pygments_lexer": "ipython2",
   "version": "2.7.13"
  }
 },
 "nbformat": 4,
 "nbformat_minor": 2
}
